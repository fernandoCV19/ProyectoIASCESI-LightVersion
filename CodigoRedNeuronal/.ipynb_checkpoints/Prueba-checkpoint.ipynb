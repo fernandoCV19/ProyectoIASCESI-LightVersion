{
 "cells": [
  {
   "cell_type": "code",
   "execution_count": 102,
   "metadata": {
    "colab": {},
    "colab_type": "code",
    "executionInfo": {
     "elapsed": 716,
     "status": "ok",
     "timestamp": 1593298670076,
     "user": {
      "displayName": "Fernando Cuenca Vargas",
      "photoUrl": "",
      "userId": "05029284599701341529"
     },
     "user_tz": 240
    },
    "id": "QSBPLcSxwXOv"
   },
   "outputs": [],
   "source": [
    "import numpy as np\n",
    "from tensorflow.keras.preprocessing.image import load_img, img_to_array\n",
    "from tensorflow.keras.models import load_model"
   ]
  },
  {
   "cell_type": "code",
   "execution_count": 103,
   "metadata": {
    "colab": {},
    "colab_type": "code",
    "executionInfo": {
     "elapsed": 697,
     "status": "ok",
     "timestamp": 1593298671519,
     "user": {
      "displayName": "Fernando Cuenca Vargas",
      "photoUrl": "",
      "userId": "05029284599701341529"
     },
     "user_tz": 240
    },
    "id": "IB9qzqsvw3iV"
   },
   "outputs": [],
   "source": [
    "# colocar la direccion de memoria donde se encuentra el modelo y sus pesos\n",
    "longitud, altura = 100, 100\n",
    "modelo = \"\"\n",
    "pesos = \"\"\n"
   ]
  },
  {
   "cell_type": "code",
   "execution_count": 104,
   "metadata": {
    "colab": {},
    "colab_type": "code",
    "executionInfo": {
     "elapsed": 990,
     "status": "ok",
     "timestamp": 1593298673130,
     "user": {
      "displayName": "Fernando Cuenca Vargas",
      "photoUrl": "",
      "userId": "05029284599701341529"
     },
     "user_tz": 240
    },
    "id": "lHAsnS7kxZ5c"
   },
   "outputs": [],
   "source": [
    "#se carga el modelo\n",
    "cnn = load_model(modelo)\n",
    "cnn.load_weights(pesos)"
   ]
  },
  {
   "cell_type": "code",
   "execution_count": 105,
   "metadata": {
    "colab": {},
    "colab_type": "code",
    "executionInfo": {
     "elapsed": 660,
     "status": "ok",
     "timestamp": 1593298675293,
     "user": {
      "displayName": "Fernando Cuenca Vargas",
      "photoUrl": "",
      "userId": "05029284599701341529"
     },
     "user_tz": 240
    },
    "id": "vSvXVl1ByBRK"
   },
   "outputs": [],
   "source": [
    "#funciona encargada de predecir\n",
    "def predict(file):\n",
    "  x = load_img(file, target_size=(longitud,altura))\n",
    "  x = img_to_array(x)\n",
    "  x = np.expand_dims(x, axis=0)\n",
    "  arreglo = cnn.predict(x) ##[[1,0]]\n",
    "  resultado = arreglo[0]\n",
    "  respuesta = np.argmax(resultado)  \n",
    "\n",
    "  if (respuesta == 0):\n",
    "    print (\"Con barbijo\")\n",
    "  elif (respuesta == 1):\n",
    "    print (\"Sin barbijo\")\n",
    "  \n",
    "\n"
   ]
  },
  {
   "cell_type": "code",
   "execution_count": 128,
   "metadata": {
    "colab": {
     "base_uri": "https://localhost:8080/",
     "height": 34
    },
    "colab_type": "code",
    "executionInfo": {
     "elapsed": 1639,
     "status": "ok",
     "timestamp": 1593300280314,
     "user": {
      "displayName": "Fernando Cuenca Vargas",
      "photoUrl": "",
      "userId": "05029284599701341529"
     },
     "user_tz": 240
    },
    "id": "SMzqQFfjzQwk",
    "outputId": "dc044d1a-c375-43ca-cc81-6189bc33920d"
   },
   "outputs": [
    {
     "name": "stdout",
     "output_type": "stream",
     "text": [
      "Con barbijo\n"
     ]
    }
   ],
   "source": [
    "#prediccion \n",
    "predict(\"\")"
   ]
  }
 ],
 "metadata": {
  "colab": {
   "authorship_tag": "ABX9TyPNzOr7mKB5NA2d3z6FtRAr",
   "collapsed_sections": [],
   "mount_file_id": "19yVYW5iR8yuQMhhwfjqpjdF_6RvaKDYI",
   "name": "Prueba.ipynb",
   "provenance": []
  },
  "kernelspec": {
   "display_name": "Python 3",
   "language": "python",
   "name": "python3"
  },
  "language_info": {
   "codemirror_mode": {
    "name": "ipython",
    "version": 3
   },
   "file_extension": ".py",
   "mimetype": "text/x-python",
   "name": "python",
   "nbconvert_exporter": "python",
   "pygments_lexer": "ipython3",
   "version": "3.7.6"
  }
 },
 "nbformat": 4,
 "nbformat_minor": 4
}
