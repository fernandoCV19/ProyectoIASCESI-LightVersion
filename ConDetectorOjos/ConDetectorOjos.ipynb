{
 "cells": [
  {
   "cell_type": "code",
   "execution_count": 1,
   "metadata": {},
   "outputs": [],
   "source": [
    "#librerias previas\n",
    "\n",
    "import cv2\n",
    "import numpy as np\n",
    "from tensorflow.keras.preprocessing.image import img_to_array\n",
    "from tensorflow.keras.models import load_model\n",
    "\n",
    "    "
   ]
  },
  {
   "cell_type": "code",
   "execution_count": 2,
   "metadata": {},
   "outputs": [],
   "source": [
    "#preparamos el modelo que distingue barbijos\n",
    "longitud, altura = 100, 100\n",
    "modelo = \"ModeloReconocedorBarbijos/modeloV2.h5\"\n",
    "pesos = \"ModeloReconocedorBarbijos/pesosV2.h5\"\n",
    "\n",
    "#cargamos el modelo y sus pesos\n",
    "cnn = load_model(modelo)\n",
    "cnn.load_weights(pesos)\n",
    "\n",
    "#preparamos el modelo de haarcascade para reconocimiento facial\n",
    "cap = cv2.VideoCapture(0)\n",
    "faceClassif = cv2.CascadeClassifier('Haarcascade/haarcascade_eye_tree_eyeglasses.xml')\n",
    "#faceClassif = cv2.CascadeClassifier('Haarcascade/haarcascade_rigtheye_2splits.xml')\n",
    "\n",
    "\n"
   ]
  },
  {
   "cell_type": "code",
   "execution_count": 3,
   "metadata": {},
   "outputs": [],
   "source": [
    "#funcion que predice si alguien esta usando un barbijo o no\n",
    "def predict(x):\n",
    "  arreglo = cnn.predict(x) ##[[1,0]]\n",
    "  resultado = arreglo[0]\n",
    "  respuesta = np.argmax(resultado)  \n",
    "\n",
    "  if (respuesta == 0):\n",
    "    #con barbijo\n",
    "    return True\n",
    "  elif (respuesta == 1):\n",
    "    #sin barbijo\n",
    "    return False"
   ]
  },
  {
   "cell_type": "code",
   "execution_count": null,
   "metadata": {},
   "outputs": [],
   "source": [
    "#analizis en tiempo real de un rostro\n",
    "while True:\n",
    "  ret,frame = cap.read()\n",
    "  gray = cv2.cvtColor(frame, cv2.COLOR_BGR2GRAY)\n",
    "\n",
    "  faces = faceClassif.detectMultiScale(gray, 1.3, 5)\n",
    "\n",
    "  for (x,y,w,h) in faces:\n",
    "    # recortar imagen acorde al rostro\n",
    "    rostro = frame[y:y+h,x:x+w]\n",
    "    # redimensionar el rostro\n",
    "    rostro = cv2.resize(rostro,(100,100))\n",
    "    rostro = img_to_array(rostro)\n",
    "    rostro = np.expand_dims(rostro, axis=0)\n",
    "    rostro = rostro/255.0\n",
    "    \n",
    "    # procesar imagen en la otra red neuronal\n",
    "    # si la persona lleva barbijo mostrar el rectangulo que rodea la cara verde\n",
    "    # si la persona no lleva barbijo mostrar el rectangilo que rodea el rostro en rojo\n",
    "    # el modelo sirve con multiples rostros al mismo tiempo\n",
    "    if (predict(rostro)):\n",
    "        #eye tree eyeglasse\n",
    "        cv2.rectangle(frame, (x-w,y-(3*h)),(x+w+(4*w),y+(5*h)),(0,255,0),2)\n",
    "        #rigth eye\n",
    "        #cv2.rectangle(frame, (x-w,y-(2*h)),(x+w+(3*w),y+(4*h)),(0,255,0),2)\n",
    "    else:\n",
    "        #eye tree eyeglasse\n",
    "        cv2.rectangle(frame, (x-w,y-(3*h)),(x+w+(4*w),y+(5*h)),(0,0,255),2)\n",
    "        #rigth eye\n",
    "        #cv2.rectangle(frame, (x-w,y-(2*h)),(x+w+(3*w),y+(4*h)),(0,0,255),2)\n",
    "    \n",
    "  cv2.imshow('frame',frame)\n",
    "  \n",
    "  if cv2.waitKey(1) & 0xFF == ord('q'):\n",
    "    cap.release()\n",
    "    cv2.destroyAllWindows()\n",
    "    break"
   ]
  }
 ],
 "metadata": {
  "kernelspec": {
   "display_name": "Python 3",
   "language": "python",
   "name": "python3"
  },
  "language_info": {
   "codemirror_mode": {
    "name": "ipython",
    "version": 3
   },
   "file_extension": ".py",
   "mimetype": "text/x-python",
   "name": "python",
   "nbconvert_exporter": "python",
   "pygments_lexer": "ipython3",
   "version": "3.7.6"
  }
 },
 "nbformat": 4,
 "nbformat_minor": 4
}
